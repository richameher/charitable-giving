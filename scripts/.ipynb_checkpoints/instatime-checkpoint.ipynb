{
 "cells": [
  {
   "cell_type": "code",
   "execution_count": 9,
   "metadata": {},
   "outputs": [
    {
     "name": "stdout",
     "output_type": "stream",
     "text": [
      "Requirement already satisfied: selenium in c:\\users\\rushal\\anaconda\\lib\\site-packages (3.141.0)\n",
      "Requirement already satisfied: urllib3 in c:\\users\\rushal\\anaconda\\lib\\site-packages (from selenium) (1.25.9)\n"
     ]
    }
   ],
   "source": [
    "!pip install selenium\n"
   ]
  },
  {
   "cell_type": "code",
   "execution_count": 1,
   "metadata": {},
   "outputs": [
    {
     "name": "stdout",
     "output_type": "stream",
     "text": [
      "Requirement already satisfied: beautifulsoup4 in c:\\users\\rushal\\anaconda\\lib\\site-packages (4.9.1)\n",
      "Requirement already satisfied: soupsieve>1.2 in c:\\users\\rushal\\anaconda\\lib\\site-packages (from beautifulsoup4) (2.0.1)\n"
     ]
    }
   ],
   "source": [
    "!pip3 install beautifulsoup4"
   ]
  },
  {
   "cell_type": "code",
   "execution_count": 17,
   "metadata": {},
   "outputs": [],
   "source": [
    "from selenium import webdriver\n",
    "from bs4 import BeautifulSoup as bs\n",
    "import json\n",
    "import csv\n",
    "import pandas as pd\n",
    "from time import sleep\n",
    "from datetime import date"
   ]
  },
  {
   "cell_type": "code",
   "execution_count": 38,
   "metadata": {},
   "outputs": [
    {
     "name": "stdout",
     "output_type": "stream",
     "text": [
      "33\n",
      "33\n"
     ]
    }
   ],
   "source": [
    "usernames =[]\n",
    "charity_id =[]\n",
    "with open('C:/Users/RUSHAL/research/scripts/charitable-giving/data/charities_list_clean.csv', 'r') as file:\n",
    "#change to appt path\n",
    "    reader = csv.reader(file)\n",
    "    for row in reader:\n",
    "        usernames.append(row[17])\n",
    "        charity_id.append(row[0])\n",
    "usernames = (usernames[1:])\n",
    "charity_id = (charity_id[1:])\n",
    "\n",
    "# print(len(charity_id))\n",
    "# print(len(usernames))\n",
    "#extract the last time add as column value "
   ]
  },
  {
   "cell_type": "code",
   "execution_count": 31,
   "metadata": {},
   "outputs": [],
   "source": []
  },
  {
   "cell_type": "code",
   "execution_count": 49,
   "metadata": {},
   "outputs": [
    {
     "name": "stdout",
     "output_type": "stream",
     "text": [
      "https://www.instagram.com/khaanachahiye/?__a=1\n",
      "https://www.instagram.com/hemkunt_foundation/?__a=1\n",
      "https://www.instagram.com/missionoxygenindia/?__a=1\n",
      "https://www.instagram.com/missionoxygenindia/?__a=1\n",
      "https://www.instagram.com/missionoxygenindia/?__a=1\n",
      "https://www.instagram.com/give_india/?__a=1\n",
      "https://www.instagram.com/give_india/?__a=1\n",
      "https://www.instagram.com/give_india/?__a=1\n",
      "https://www.instagram.com/give_india/?__a=1\n",
      "https://www.instagram.com/give_india/?__a=1\n",
      "https://www.instagram.com/give_india/?__a=1\n",
      "https://www.instagram.com/give_india/?__a=1\n",
      "https://www.instagram.com/give_india/?__a=1\n",
      "https://www.instagram.com/give_india/?__a=1\n",
      "https://www.instagram.com/give_india/?__a=1\n",
      "https://www.instagram.com/yeinudaan/?__a=1\n",
      "https://www.instagram.com/indiao2org/?__a=1\n",
      "https://www.instagram.com/indiao2org/?__a=1\n",
      "https://www.instagram.com/swasthorg/?__a=1\n",
      "https://www.instagram.com/rotibankfdn/?__a=1\n",
      "https://www.instagram.com/feedingindia/?__a=1\n",
      "[Timestamp('2021-07-06 08:31:23'), 'no data', 'no data', 'no data', 'no data', Timestamp('2021-07-10 13:18:16'), Timestamp('2021-07-07 05:10:26'), Timestamp('2021-07-07 05:10:26'), Timestamp('2021-07-07 05:10:26'), 'no data', 'no data', 'no data', 'no data', 'no data', 'no data', 'no data', 'no data', Timestamp('2021-07-10 12:00:06'), Timestamp('2021-07-10 12:00:06'), Timestamp('2021-07-10 12:00:06'), Timestamp('2021-07-10 12:00:06'), Timestamp('2021-07-10 12:00:06'), Timestamp('2021-07-10 12:00:06'), Timestamp('2021-07-10 12:00:06'), Timestamp('2021-07-10 12:00:06'), Timestamp('2021-07-10 12:00:06'), Timestamp('2021-07-10 12:00:06'), Timestamp('2021-06-22 07:39:41'), Timestamp('2021-05-21 16:29:26'), Timestamp('2021-05-21 16:29:26'), Timestamp('2021-07-07 02:55:14'), Timestamp('2021-05-06 05:49:33'), Timestamp('2021-07-08 13:00:40')]\n"
     ]
    }
   ],
   "source": [
    "username1 = \"decidetodonatetoday@gmail.com\"\n",
    "password = \"Charitable-Giving123\"\n",
    "\n",
    "getdriver = (\"https://www.instagram.com/accounts/login/\")\n",
    "# chrome=91.0.4472.124\n",
    "driver = webdriver.Chrome(r'c:\\webdriver\\chromedriver.exe')\n",
    "driver.get(getdriver)\n",
    "\n",
    "driver.maximize_window()\n",
    "sleep(0.4)\n",
    "\n",
    "driver.find_element_by_css_selector(\"input._2hvTZ.pexuQ.zyHYP\").send_keys(username1)\n",
    "driver.find_element_by_xpath(\"//input[@name='password']\").send_keys(password)\n",
    "driver.find_element_by_css_selector(\"div.Igw0E.IwRSH.eGOV_._4EzTm.bkEs3.CovQj.jKUp7.DhRcB\").click()\n",
    "sleep(5)\n",
    "final2=[];\n",
    "for username in usernames:\n",
    "    if username != '':\n",
    "        url = username+'?__a=1'\n",
    "#         print(url)\n",
    "\n",
    "        (driver.get(url))\n",
    "\n",
    "        links=[]\n",
    "        source = driver.page_source\n",
    "        data=bs(source, 'html.parser')\n",
    "        body = data.find('body')\n",
    "        script = body.find('script', text=lambda t: t.startswith('window._sharedData'))\n",
    "        cat = (str(body))\n",
    "\n",
    "\n",
    "        cat1 = (cat[65:-13])\n",
    "        dog =json.loads(cat1)\n",
    "\n",
    "        if(((dog['graphql']['user']['is_private'])== False)):\n",
    "        #     if((dog[\"graphql\"][\"user\"][\"edge_owner_to_timeline_media\"][\"edges\"].length>0)):\n",
    "                timestamp =((dog['graphql']['user']['edge_owner_to_timeline_media']['edges'][0]['node']['taken_at_timestamp']))\n",
    "                img_1_link = (((dog['graphql']['user']['edge_owner_to_timeline_media']['edges'][0]['node']['display_url'])))\n",
    "                img_2_link = (((dog['graphql']['user']['edge_owner_to_timeline_media']['edges'][1]['node']['display_url'])))\n",
    "                img_3_link = (((dog['graphql']['user']['edge_owner_to_timeline_media']['edges'][2]['node']['display_url'])))\n",
    "\n",
    "        else:\n",
    "            print(\"Fail\")\n",
    "        t =pd.to_datetime(timestamp, unit='s')\n",
    "        final2.append(t)\n",
    "    else:\n",
    "        final2.append('no data')\n",
    "driver.close ()\n",
    "\n"
   ]
  },
  {
   "cell_type": "code",
   "execution_count": 68,
   "metadata": {},
   "outputs": [
    {
     "name": "stdout",
     "output_type": "stream",
     "text": [
      "66\n",
      "('1', 'Last Activity was 4 days ago ')\n",
      "('2', 'no data')\n",
      "('3', 'no data')\n",
      "('4', 'no data')\n",
      "('5', 'no data')\n",
      "('6', 'Last Activity was today')\n",
      "('7', 'Last Activity was 3 days ago ')\n",
      "('8', 'Last Activity was 3 days ago ')\n",
      "('9', 'Last Activity was 3 days ago ')\n",
      "('10', 'no data')\n",
      "('11', 'no data')\n",
      "('12', 'no data')\n",
      "('13', 'no data')\n",
      "('14', 'no data')\n",
      "('15', 'no data')\n",
      "('16', 'no data')\n",
      "('17', 'no data')\n",
      "('18', 'Last Activity was today')\n",
      "('19', 'Last Activity was today')\n",
      "('20', 'Last Activity was today')\n",
      "('21', 'Last Activity was today')\n",
      "('22', 'Last Activity was today')\n",
      "('23', 'Last Activity was today')\n",
      "('24', 'Last Activity was today')\n",
      "('25', 'Last Activity was today')\n",
      "('26', 'Last Activity was today')\n",
      "('27', 'Last Activity was today')\n",
      "('28', 'Last Activity was 1 months ago')\n",
      "('29', 'Last Activity was 2 months ago')\n",
      "('30', 'Last Activity was 2 months ago')\n",
      "('31', 'Last Activity was 3 days ago ')\n",
      "('32', 'Last Activity was 2 months ago')\n",
      "('33', 'Last Activity was 2 days ago ')\n"
     ]
    }
   ],
   "source": [
    "import csv  \n",
    "from datetime import date\n",
    "final =final2\n",
    "print(len(final))\n",
    "#change to appt path\n",
    "with open('C:/Users/RUSHAL/research/scripts/charitable-giving/data/time_updates.csv', 'w', encoding='UTF8',newline='') as f:\n",
    "    writer = csv.writer(f)\n",
    "    header = ['charity_id','last_updated']\n",
    "    # write the header\n",
    "    writer.writerow(header)\n",
    "    time_update = []\n",
    "    for i in range((33)): \n",
    "        if final[i] != 'no data':\n",
    "            today = date.today()\n",
    "            when = ((today.month - final[i].month));\n",
    "            when_str = str(when)\n",
    "            timetype = \" months ago\"\n",
    "            if (when == 0):\n",
    "                when = (today.day - final[i].day)\n",
    "                when_str = str(when)\n",
    "                timetype = \" days ago \"\n",
    "                if (when== 0):                    \n",
    "                    timetype = \"today\"\n",
    "                    when_str = ''\n",
    "            time_update.append(\"Last Activity was \" + (when_str) +timetype)\n",
    "        else:\n",
    "            time_update.append(final[i])     \n",
    "        \n",
    "        data = charity_id[i],time_update[i]        \n",
    "        # write the data\n",
    "        writer.writerow(data)\n",
    "        \n",
    "# print(final,time_update)"
   ]
  },
  {
   "cell_type": "code",
   "execution_count": 26,
   "metadata": {
    "scrolled": true
   },
   "outputs": [
    {
     "name": "stdout",
     "output_type": "stream",
     "text": [
      "Last Activity was\n",
      "2\n",
      "days ago\n"
     ]
    }
   ],
   "source": [
    "# Below code is for extracting images from charties ignore for now"
   ]
  },
  {
   "cell_type": "code",
   "execution_count": 28,
   "metadata": {},
   "outputs": [
    {
     "name": "stdout",
     "output_type": "stream",
     "text": [
      "img_1_link\n",
      "https://scontent-ort2-1.cdninstagram.com/v/t51.2885-15/e35/207497716_501755017605620_5150390275455122548_n.jpg?tp=1&amp;_nc_ht=scontent-ort2-1.cdninstagram.com&amp;_nc_cat=108&amp;_nc_ohc=kVLwaezHrFMAX_IHEmL&amp;edm=ABfd0MgBAAAA&amp;ccb=7-4&amp;oh=a3533c78631645e0de90c6d03be95b4f&amp;oe=60E03E06&amp;_nc_sid=7bff83\n",
      "img_2_link\n",
      "https://scontent-ort2-1.cdninstagram.com/v/t51.2885-15/e35/208986842_330836981977498_2942736526505977374_n.jpg?tp=1&amp;_nc_ht=scontent-ort2-1.cdninstagram.com&amp;_nc_cat=110&amp;_nc_ohc=G-f507C__yAAX-G77MD&amp;edm=ABfd0MgBAAAA&amp;ccb=7-4&amp;oh=84abe008bec80989a1381592bb2c439f&amp;oe=60DA8119&amp;_nc_sid=7bff83\n",
      "img_3_link\n",
      "https://scontent-ort2-1.cdninstagram.com/v/t51.2885-15/e35/s1080x1080/207229257_656665932395866_4205776160381453775_n.jpg?tp=1&amp;_nc_ht=scontent-ort2-1.cdninstagram.com&amp;_nc_cat=110&amp;_nc_ohc=gvNHvwt6il4AX-68UhB&amp;edm=ABfd0MgBAAAA&amp;ccb=7-4&amp;oh=49b5dcf4c9e05b356271229166ac05f5&amp;oe=60E17225&amp;_nc_sid=7bff83\n"
     ]
    }
   ],
   "source": [
    "print(\"img_1_link\")\n",
    "print(img_1_link)\n",
    "print(\"img_2_link\")\n",
    "print(img_2_link)\n",
    "print(\"img_3_link\")\n",
    "print(img_3_link)\n",
    "\n",
    "\n",
    "#remove amp; from the final string"
   ]
  },
  {
   "cell_type": "code",
   "execution_count": null,
   "metadata": {},
   "outputs": [],
   "source": [
    "# https://scontent-ort2-1.cdninstagram.com/v/t51.2885-15/e35/209001440_805651086805802_5923460562293731077_n.jpg?tp=1&_nc_ht=scontent-ort2-1.cdninstagram.com&_nc_cat=1&_nc_ohc=7LGJzbhMW6EAX-uVXWm&edm=ABfd0MgBAAAA&ccb=7-4&oh=80382580154e03c7496405b1d0938e3a&oe=60DAA6FC&_nc_sid=7bff83\n",
    "# https://scontent-ort2-1.cdninstagram.com/v/t51.2885-15/e35/207497716_501755017605620_5150390275455122548_n.jpg?tp=1&amp;_nc_ht=scontent-ort2-1.cdninstagram.com&amp;_nc_cat=108&amp;_nc_ohc=kVLwaezHrFMAX_IHEmL&amp;edm=ABfd0MgBAAAA&amp;ccb=7-4&amp;oh=a3533c78631645e0de90c6d03be95b4f&amp;oe=60E03E06&amp;_nc_sid=7bff83    "
   ]
  }
 ],
 "metadata": {
  "celltoolbar": "Raw Cell Format",
  "kernelspec": {
   "display_name": "Python 3",
   "language": "python",
   "name": "python3"
  },
  "language_info": {
   "codemirror_mode": {
    "name": "ipython",
    "version": 3
   },
   "file_extension": ".py",
   "mimetype": "text/x-python",
   "name": "python",
   "nbconvert_exporter": "python",
   "pygments_lexer": "ipython3",
   "version": "3.8.3"
  }
 },
 "nbformat": 4,
 "nbformat_minor": 4
}
