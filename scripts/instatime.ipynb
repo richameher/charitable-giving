{
 "cells": [
  {
   "cell_type": "code",
   "execution_count": 1,
   "metadata": {},
   "outputs": [
    {
     "name": "stdout",
     "output_type": "stream",
     "text": [
      "Requirement already satisfied: selenium in c:\\users\\rushal\\anaconda\\lib\\site-packages (3.141.0)\n",
      "Requirement already satisfied: urllib3 in c:\\users\\rushal\\anaconda\\lib\\site-packages (from selenium) (1.25.9)\n"
     ]
    }
   ],
   "source": [
    "!pip install selenium\n"
   ]
  },
  {
   "cell_type": "code",
   "execution_count": 2,
   "metadata": {},
   "outputs": [
    {
     "name": "stdout",
     "output_type": "stream",
     "text": [
      "Requirement already satisfied: beautifulsoup4 in c:\\users\\rushal\\anaconda\\lib\\site-packages (4.9.1)\n",
      "Requirement already satisfied: soupsieve>1.2 in c:\\users\\rushal\\anaconda\\lib\\site-packages (from beautifulsoup4) (2.0.1)\n"
     ]
    }
   ],
   "source": [
    "!pip3 install beautifulsoup4"
   ]
  },
  {
   "cell_type": "code",
   "execution_count": 2,
   "metadata": {},
   "outputs": [],
   "source": [
    "from selenium import webdriver\n",
    "from bs4 import BeautifulSoup as bs"
   ]
  },
  {
   "cell_type": "code",
   "execution_count": null,
   "metadata": {},
   "outputs": [],
   "source": [
    "# workbook = openpyxl.load_workbook(file_location)\n",
    "# worksheet = workbook.worksheets[0]"
   ]
  },
  {
   "cell_type": "code",
   "execution_count": 3,
   "metadata": {},
   "outputs": [],
   "source": [
    "username = \"hemkunt_foundation\"\n",
    "\n",
    "url = 'https://www.instagram.com/'+username+'/?__a=1'\n",
    "# driver = webdriver.Chrome('C:/webdriver/chromedriver.exe')\n",
    "driver = webdriver.Chrome(r'c:\\webdriver\\chromedriver.exe')\n",
    "\n",
    "driver.get(url)\n",
    "\n",
    "soup = bs(driver.page_source)\n",
    "\n",
    "# print(soup)\n",
    "links=[]\n",
    "source = driver.page_source\n",
    "data=bs(source, 'html.parser')\n",
    "body = data.find('body')\n",
    "script = body.find('script', text=lambda t: t.startswith('window._sharedData'))\n",
    "cat = (str(body))\n",
    "driver.close ()"
   ]
  },
  {
   "cell_type": "code",
   "execution_count": 25,
   "metadata": {},
   "outputs": [],
   "source": [
    "import json\n",
    "cat1 = (cat[65:-13])\n",
    "# print((cat1))\n",
    "dog =json.loads(cat1)\n",
    "if(((dog['graphql']['user']['is_private'])== False)):\n",
    "#     if((dog[\"graphql\"][\"user\"][\"edge_owner_to_timeline_media\"][\"edges\"].length>0)):\n",
    "        timestamp =((dog['graphql']['user']['edge_owner_to_timeline_media']['edges'][0]['node']['taken_at_timestamp']))\n",
    "        img_1_link = (((dog['graphql']['user']['edge_owner_to_timeline_media']['edges'][0]['node']['display_url'])))\n",
    "        img_2_link = (((dog['graphql']['user']['edge_owner_to_timeline_media']['edges'][1]['node']['display_url'])))\n",
    "        img_3_link = (((dog['graphql']['user']['edge_owner_to_timeline_media']['edges'][2]['node']['display_url'])))\n",
    "# JSON.parse(document.getElementsByTagName(\"pre\")[0].innerText).graphql.user.edge_owner_to_timeline_media.edges[0].node.display_url\n",
    "\n",
    "else:\n",
    "    print(\"Fail\")"
   ]
  },
  {
   "cell_type": "code",
   "execution_count": 26,
   "metadata": {
    "scrolled": true
   },
   "outputs": [
    {
     "name": "stdout",
     "output_type": "stream",
     "text": [
      "Last Activity was\n",
      "2\n",
      "days ago\n"
     ]
    }
   ],
   "source": [
    "import pandas as pd\n",
    "t =pd.to_datetime(timestamp, unit='s')\n",
    "\n",
    "from datetime import date\n",
    "today = date.today()\n",
    "when = ((today.month - t.month));\n",
    "timetype = \"momth\"\n",
    "if (when ==0):\n",
    "    when = (today.day - t.day)\n",
    "    timetype = \"days\" \n",
    "print(\"Last Activity was\" )\n",
    "print(when)\n",
    "print(timetype+\" ago\")\n",
    "# convert to text how long ago"
   ]
  },
  {
   "cell_type": "code",
   "execution_count": 28,
   "metadata": {},
   "outputs": [
    {
     "name": "stdout",
     "output_type": "stream",
     "text": [
      "img_1_link\n",
      "https://scontent-ort2-1.cdninstagram.com/v/t51.2885-15/e35/207497716_501755017605620_5150390275455122548_n.jpg?tp=1&amp;_nc_ht=scontent-ort2-1.cdninstagram.com&amp;_nc_cat=108&amp;_nc_ohc=kVLwaezHrFMAX_IHEmL&amp;edm=ABfd0MgBAAAA&amp;ccb=7-4&amp;oh=a3533c78631645e0de90c6d03be95b4f&amp;oe=60E03E06&amp;_nc_sid=7bff83\n",
      "img_2_link\n",
      "https://scontent-ort2-1.cdninstagram.com/v/t51.2885-15/e35/208986842_330836981977498_2942736526505977374_n.jpg?tp=1&amp;_nc_ht=scontent-ort2-1.cdninstagram.com&amp;_nc_cat=110&amp;_nc_ohc=G-f507C__yAAX-G77MD&amp;edm=ABfd0MgBAAAA&amp;ccb=7-4&amp;oh=84abe008bec80989a1381592bb2c439f&amp;oe=60DA8119&amp;_nc_sid=7bff83\n",
      "img_3_link\n",
      "https://scontent-ort2-1.cdninstagram.com/v/t51.2885-15/e35/s1080x1080/207229257_656665932395866_4205776160381453775_n.jpg?tp=1&amp;_nc_ht=scontent-ort2-1.cdninstagram.com&amp;_nc_cat=110&amp;_nc_ohc=gvNHvwt6il4AX-68UhB&amp;edm=ABfd0MgBAAAA&amp;ccb=7-4&amp;oh=49b5dcf4c9e05b356271229166ac05f5&amp;oe=60E17225&amp;_nc_sid=7bff83\n"
     ]
    }
   ],
   "source": [
    "print(\"img_1_link\")\n",
    "print(img_1_link)\n",
    "print(\"img_2_link\")\n",
    "print(img_2_link)\n",
    "print(\"img_3_link\")\n",
    "print(img_3_link)\n",
    "\n",
    "\n",
    "#remove amp; from the final string"
   ]
  },
  {
   "cell_type": "code",
   "execution_count": null,
   "metadata": {},
   "outputs": [],
   "source": [
    "# https://scontent-ort2-1.cdninstagram.com/v/t51.2885-15/e35/209001440_805651086805802_5923460562293731077_n.jpg?tp=1&_nc_ht=scontent-ort2-1.cdninstagram.com&_nc_cat=1&_nc_ohc=7LGJzbhMW6EAX-uVXWm&edm=ABfd0MgBAAAA&ccb=7-4&oh=80382580154e03c7496405b1d0938e3a&oe=60DAA6FC&_nc_sid=7bff83\n",
    "# https://scontent-ort2-1.cdninstagram.com/v/t51.2885-15/e35/207497716_501755017605620_5150390275455122548_n.jpg?tp=1&amp;_nc_ht=scontent-ort2-1.cdninstagram.com&amp;_nc_cat=108&amp;_nc_ohc=kVLwaezHrFMAX_IHEmL&amp;edm=ABfd0MgBAAAA&amp;ccb=7-4&amp;oh=a3533c78631645e0de90c6d03be95b4f&amp;oe=60E03E06&amp;_nc_sid=7bff83    "
   ]
  }
 ],
 "metadata": {
  "celltoolbar": "Raw Cell Format",
  "kernelspec": {
   "display_name": "Python 3",
   "language": "python",
   "name": "python3"
  },
  "language_info": {
   "codemirror_mode": {
    "name": "ipython",
    "version": 3
   },
   "file_extension": ".py",
   "mimetype": "text/x-python",
   "name": "python",
   "nbconvert_exporter": "python",
   "pygments_lexer": "ipython3",
   "version": "3.8.3"
  }
 },
 "nbformat": 4,
 "nbformat_minor": 4
}
