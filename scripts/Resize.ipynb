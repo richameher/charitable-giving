{
 "cells": [
  {
   "cell_type": "code",
   "execution_count": 5,
   "metadata": {},
   "outputs": [
    {
     "name": "stdout",
     "output_type": "stream",
     "text": [
      "Requirement already satisfied: opencv-python in /Users/richameherwal/anaconda3/lib/python3.8/site-packages (4.5.2.54)\n",
      "Requirement already satisfied: numpy>=1.17.3 in /Users/richameherwal/anaconda3/lib/python3.8/site-packages (from opencv-python) (1.18.5)\n",
      "\u001b[33mWARNING: You are using pip version 21.0.1; however, version 21.1.3 is available.\n",
      "You should consider upgrading via the '/Users/richameherwal/anaconda3/bin/python3 -m pip install --upgrade pip' command.\u001b[0m\n"
     ]
    }
   ],
   "source": [
    "!pip install opencv-python"
   ]
  },
  {
   "cell_type": "code",
   "execution_count": null,
   "metadata": {},
   "outputs": [],
   "source": [
    "import cv2\n",
    "#  // GET IMAGE PATHS FROM RICHA \n",
    "img = cv2.imread('img_CashRelief_Charity8.png', cv2.IMREAD_UNCHANGED)\n",
    " \n",
    "print('Original Dimensions : ',img.shape)\n",
    " \n",
    "width = 100\n",
    "height = 100\n",
    "dim = (width, height)\n",
    " \n",
    "# resize image\n",
    "resized = cv2.resize(img, dim, interpolation = cv2.INTER_AREA)\n",
    " \n",
    "# print('Resized Dimensions : ',resized.shape)\n",
    " \n"
   ]
  },
  {
   "cell_type": "code",
   "execution_count": 6,
   "metadata": {},
   "outputs": [
    {
     "name": "stdout",
     "output_type": "stream",
     "text": [
      "img_10.jpg\n",
      "(320, 320, 3)\n",
      "img_1.png\n",
      "(320, 320, 3)\n",
      "img_11.png\n",
      "(512, 512, 4)\n",
      "img_13.png\n",
      "(224, 224, 4)\n",
      "img_2.png\n",
      "(307, 506, 4)\n",
      "img_3.png\n",
      "(320, 320, 3)\n",
      "img_12.jpg\n",
      "(320, 320, 3)\n",
      "img_6.png\n",
      "(467, 472, 4)\n",
      "img_4.png\n",
      "(320, 320, 3)\n",
      "img_5.png\n",
      "(73, 250, 4)\n",
      "img_14.png\n",
      "(632, 2964, 4)\n",
      "img_8.png\n",
      "(105, 539, 4)\n",
      "img_9.png\n",
      "(530, 1500, 3)\n"
     ]
    }
   ],
   "source": [
    "import cv2\n",
    "#  // GET IMAGE PATHS FROM RICHA \n",
    "\n",
    "import os\n",
    "\n",
    "for filename in os.listdir(\"../data/Logos\"):\n",
    "#     print(filename)\n",
    "    if filename.startswith('img'):\n",
    "        print(filename)\n",
    "        img = cv2.imread(\"../data/Logos/\"+filename, cv2.IMREAD_UNCHANGED)\n",
    "\n",
    "        print(img.shape)\n",
    "\n",
    "        scale_percent = 60 # percent of original size\n",
    "        width = 200\n",
    "        height = 100\n",
    "        dim = (width, height)\n",
    "\n",
    "        resized = cv2.resize(img, dim, interpolation = cv2.INTER_AREA)\n",
    "\n",
    "\n",
    "        cv2.imwrite(\"../data/Logos/resized_\"+filename, resized)"
   ]
  },
  {
   "cell_type": "code",
   "execution_count": null,
   "metadata": {},
   "outputs": [],
   "source": []
  }
 ],
 "metadata": {
  "kernelspec": {
   "display_name": "Python 3",
   "language": "python",
   "name": "python3"
  },
  "language_info": {
   "codemirror_mode": {
    "name": "ipython",
    "version": 3
   },
   "file_extension": ".py",
   "mimetype": "text/x-python",
   "name": "python",
   "nbconvert_exporter": "python",
   "pygments_lexer": "ipython3",
   "version": "3.8.3"
  }
 },
 "nbformat": 4,
 "nbformat_minor": 4
}
