{
 "cells": [
  {
   "cell_type": "code",
   "execution_count": 1,
   "metadata": {},
   "outputs": [
    {
     "name": "stdout",
     "output_type": "stream",
     "text": [
      "Requirement already satisfied: opencv-python in /Users/richameherwal/anaconda3/lib/python3.8/site-packages (4.5.2.54)\n",
      "Requirement already satisfied: numpy>=1.17.3 in /Users/richameherwal/anaconda3/lib/python3.8/site-packages (from opencv-python) (1.18.5)\n",
      "\u001b[33mWARNING: You are using pip version 21.0.1; however, version 21.1.3 is available.\n",
      "You should consider upgrading via the '/Users/richameherwal/anaconda3/bin/python3 -m pip install --upgrade pip' command.\u001b[0m\n"
     ]
    }
   ],
   "source": [
    "!pip install opencv-python"
   ]
  },
  {
   "cell_type": "code",
   "execution_count": null,
   "metadata": {},
   "outputs": [],
   "source": [
    "import cv2\n",
    "#  // GET IMAGE PATHS FROM RICHA \n",
    "img = cv2.imread('img_CashRelief_Charity8.png', cv2.IMREAD_UNCHANGED)\n",
    " \n",
    "print('Original Dimensions : ',img.shape)\n",
    " \n",
    "width = 100\n",
    "height = 100\n",
    "dim = (width, height)\n",
    " \n",
    "# resize image\n",
    "resized = cv2.resize(img, dim, interpolation = cv2.INTER_AREA)\n",
    " \n",
    "# print('Resized Dimensions : ',resized.shape)\n",
    " \n"
   ]
  },
  {
   "cell_type": "code",
   "execution_count": 6,
   "metadata": {},
   "outputs": [
    {
     "name": "stdout",
     "output_type": "stream",
     "text": [
      "img_CovidCareCenter_Charity8.png\n",
      "(928, 996, 4)\n",
      "img_CookedMeal_Charity13.png\n",
      "(1182, 1178, 4)\n",
      "img_grocery1_Charity5.png\n",
      "(872, 570, 4)\n",
      "img_meal2_charity_1.png\n",
      "(587, 1024, 4)\n",
      "img_meal1_Charity1.png\n",
      "(587, 1022, 4)\n",
      "img_grocery1_Charity7.png\n",
      "(1474, 1082, 4)\n",
      "img_servedmeal_Charity13.png\n",
      "(1188, 1180, 4)\n",
      "img_poor_Charity6.jpeg\n",
      "(417, 750, 3)\n",
      "img_food2_charity12.png\n",
      "(950, 1300, 4)\n",
      "img_grocery_charity9.png\n",
      "(928, 1940, 4)\n",
      "img_OxygCyl_Charity8.png\n",
      "(700, 1010, 4)\n",
      "img_grocery_charity8.png\n",
      "(974, 876, 4)\n",
      "img_food1_charity12.png\n",
      "(1112, 1104, 4)\n",
      "img_medical_charity9.png\n",
      "(928, 976, 4)\n",
      "img_oxygen_Charity3.png\n",
      "(812, 1068, 4)\n",
      "img_care_Charity3.png\n",
      "(1076, 1104, 4)\n",
      "img_grocery_Charity7.png\n",
      "(1244, 1676, 4)\n",
      "img_grocery_Charity5.png\n",
      "(874, 568, 4)\n",
      "img_OxygenConcent_Charity11.png\n",
      "(788, 1152, 4)\n",
      "img_medical_Charity7.png\n",
      "(1162, 1784, 4)\n",
      "img_medical_Charity3.png\n",
      "(1078, 582, 4)\n",
      "img_medical_charity14.png\n",
      "(938, 1102, 4)\n",
      "img_oxygen_charity11.png\n",
      "(806, 1170, 4)\n",
      "img_CashRelief_Charity8.png\n",
      "(802, 1246, 4)\n",
      "img_grocery1_Charity9.png\n",
      "(946, 1758, 4)\n",
      "img_food_charity12.png\n",
      "(970, 966, 4)\n",
      "img_meal_Charity6.png\n",
      "(822, 856, 4)\n",
      "img_mask_charity14.png\n",
      "(964, 1116, 4)\n",
      "img_meal_Charity5.png\n",
      "(884, 542, 4)\n"
     ]
    }
   ],
   "source": [
    "import cv2\n",
    "#  // GET IMAGE PATHS FROM RICHA \n",
    "\n",
    "import os\n",
    "\n",
    "for filename in os.listdir(\"./Keywords_images/\"):\n",
    "#     print(filename)\n",
    "    if filename.startswith('img'):\n",
    "        print(filename)\n",
    "        img = cv2.imread(\"./Keywords_images/\"+filename, cv2.IMREAD_UNCHANGED)\n",
    "\n",
    "        print(img.shape)\n",
    "\n",
    "        #percent by which the image is resized\n",
    "        scale_percent = 20\n",
    "\n",
    "#calculate the 50 percent of original dimensions\n",
    "        width = int(img.shape[1] * scale_percent / 100)\n",
    "        height = int(img.shape[0] * scale_percent / 100)\n",
    "        dim = (width, height)\n",
    "\n",
    "        resized = cv2.resize(img, dim, interpolation = cv2.INTER_AREA)\n",
    "\n",
    "\n",
    "        cv2.imwrite(filename, resized)"
   ]
  },
  {
   "cell_type": "code",
   "execution_count": null,
   "metadata": {},
   "outputs": [],
   "source": []
  }
 ],
 "metadata": {
  "kernelspec": {
   "display_name": "Python 3",
   "language": "python",
   "name": "python3"
  },
  "language_info": {
   "codemirror_mode": {
    "name": "ipython",
    "version": 3
   },
   "file_extension": ".py",
   "mimetype": "text/x-python",
   "name": "python",
   "nbconvert_exporter": "python",
   "pygments_lexer": "ipython3",
   "version": "3.8.3"
  }
 },
 "nbformat": 4,
 "nbformat_minor": 4
}
