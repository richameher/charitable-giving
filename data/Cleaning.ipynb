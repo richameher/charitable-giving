{
 "cells": [
  {
   "cell_type": "code",
   "execution_count": 34,
   "metadata": {},
   "outputs": [],
   "source": [
    "import pandas as pd\n",
    "df=pd.read_csv('charities_list_raw.csv')"
   ]
  },
  {
   "cell_type": "code",
   "execution_count": 35,
   "metadata": {},
   "outputs": [
    {
     "data": {
      "text/plain": [
       "array(['Food Relief', 'Medical Supply, Transportation', 'Medical Supply',\n",
       "       'Food relief,Medical Supply', 'Cash'], dtype=object)"
      ]
     },
     "execution_count": 35,
     "metadata": {},
     "output_type": "execute_result"
    }
   ],
   "source": [
    "df = df.replace('\\n','', regex=True)\n",
    "df['Cause'].unique()"
   ]
  },
  {
   "cell_type": "code",
   "execution_count": 36,
   "metadata": {},
   "outputs": [
    {
     "name": "stdout",
     "output_type": "stream",
     "text": [
      "['Food Relief' 'Medical Supply' ' Transportation' 'Food relief' 'Cash'] ['Central India' 'North India' ' South India' ' Central India'\n",
      " 'South India' ' North India']\n"
     ]
    }
   ],
   "source": [
    "reshaped = \\\n",
    "(df.set_index(df.columns.drop('Cause',1).tolist())\n",
    "   .Cause.str.split(',', expand=True)\n",
    "   .stack()\n",
    "   .reset_index()\n",
    "   .rename(columns={0:'Cause'})\n",
    "   .loc[:, df.columns]\n",
    ")\n",
    "reshaped_region = \\\n",
    "(reshaped.set_index(reshaped.columns.drop('region',1).tolist())\n",
    "   .region.str.split(',', expand=True)\n",
    "   .stack()\n",
    "   .reset_index()\n",
    "   .rename(columns={0:'region'})\n",
    "   .loc[:, reshaped_region.columns]\n",
    ")\n",
    "\n",
    "print(reshaped_region['Cause'].unique(),reshaped_region['region'].unique())\n",
    "df=reshaped_region"
   ]
  },
  {
   "cell_type": "code",
   "execution_count": 37,
   "metadata": {},
   "outputs": [
    {
     "data": {
      "text/plain": [
       "array(['0', '1', '2'], dtype=object)"
      ]
     },
     "execution_count": 37,
     "metadata": {},
     "output_type": "execute_result"
    }
   ],
   "source": [
    "df['Cause'] = df['Cause'].replace(['Medical Supply'],'1')\n",
    "df['Cause'] = df['Cause'].replace(['Food Relief'],'0')\n",
    "df['Cause'] = df['Cause'].replace(['Food relief'],'0')\n",
    "df['Cause'] = df['Cause'].replace([' Medical Supply'],'0')\n",
    "df['Cause'] = df['Cause'].replace(['Cash'],'2')\n",
    "df['Cause'] = df['Cause'].replace(['Transportation'],'2')\n",
    "df['Cause'] = df['Cause'].replace([' Transportation'],'2')\n",
    "\n",
    "df['Cause'].unique()"
   ]
  },
  {
   "cell_type": "code",
   "execution_count": 38,
   "metadata": {},
   "outputs": [
    {
     "data": {
      "text/plain": [
       "array(['2', '1', '0'], dtype=object)"
      ]
     },
     "execution_count": 38,
     "metadata": {},
     "output_type": "execute_result"
    }
   ],
   "source": [
    "df['region'] = df['region'].replace(['Central India'],'2')\n",
    "df['region'] = df['region'].replace([' Central India'],'2')\n",
    "df['region'] = df['region'].replace(['North India'],'1')\n",
    "df['region'] = df['region'].replace([' North India'],'1')\n",
    "df['region'] = df['region'].replace(['South India'],'0')\n",
    "df['region'] = df['region'].replace([' South India'],'0')\n",
    "df['region'] = df['region'].fillna(0)\n",
    "df['region'].unique()"
   ]
  },
  {
   "cell_type": "code",
   "execution_count": 44,
   "metadata": {},
   "outputs": [],
   "source": [
    "df.to_csv('charities_list_clean.csv',index=True)"
   ]
  },
  {
   "cell_type": "code",
   "execution_count": 45,
   "metadata": {},
   "outputs": [
    {
     "data": {
      "text/plain": [
       "array(['Meals', 'Transportation', 'Oxygen Infrastructure',\n",
       "       'Covid Care Infrastrucrure', 'Cash relief'], dtype=object)"
      ]
     },
     "execution_count": 45,
     "metadata": {},
     "output_type": "execute_result"
    }
   ],
   "source": [
    "df['relief_type'].unique()"
   ]
  },
  {
   "cell_type": "code",
   "execution_count": null,
   "metadata": {},
   "outputs": [],
   "source": []
  },
  {
   "cell_type": "code",
   "execution_count": null,
   "metadata": {},
   "outputs": [],
   "source": []
  }
 ],
 "metadata": {
  "kernelspec": {
   "display_name": "Python 3",
   "language": "python",
   "name": "python3"
  },
  "language_info": {
   "codemirror_mode": {
    "name": "ipython",
    "version": 3
   },
   "file_extension": ".py",
   "mimetype": "text/x-python",
   "name": "python",
   "nbconvert_exporter": "python",
   "pygments_lexer": "ipython3",
   "version": "3.8.3"
  }
 },
 "nbformat": 4,
 "nbformat_minor": 4
}
